{
 "metadata": {
  "language_info": {
   "codemirror_mode": {
    "name": "ipython",
    "version": 3
   },
   "file_extension": ".py",
   "mimetype": "text/x-python",
   "name": "python",
   "nbconvert_exporter": "python",
   "pygments_lexer": "ipython3",
   "version": "3.8.5"
  },
  "orig_nbformat": 2,
  "kernelspec": {
   "name": "python3",
   "display_name": "Python 3.8.5 64-bit ('base': conda)",
   "metadata": {
    "interpreter": {
     "hash": "0b9d13a57135dc9d48573954859f9e3a023e6a9d9ab4da85dde7ea82a7e5fecf"
    }
   }
  }
 },
 "nbformat": 4,
 "nbformat_minor": 2,
 "cells": [
  {
   "cell_type": "code",
   "execution_count": 1,
   "metadata": {},
   "outputs": [
    {
     "output_type": "stream",
     "name": "stdout",
     "text": [
      "sum= 5050\n"
     ]
    }
   ],
   "source": [
    "i=0\n",
    "sum=0\n",
    "while i <100 :\n",
    "    i+=1\n",
    "    sum = sum + i\n",
    "print(\"sum=\",sum)"
   ]
  },
  {
   "cell_type": "code",
   "execution_count": 2,
   "metadata": {},
   "outputs": [
    {
     "output_type": "stream",
     "name": "stdout",
     "text": [
      "sum= 4950\n"
     ]
    }
   ],
   "source": [
    "i=0\n",
    "sum=0\n",
    "while i <100 :\n",
    "    sum = sum + i\n",
    "    i+=1\n",
    "print(\"sum=\",sum)\n"
   ]
  },
  {
   "cell_type": "code",
   "execution_count": 3,
   "metadata": {},
   "outputs": [
    {
     "output_type": "stream",
     "name": "stdout",
     "text": [
      "sum= 5050\n"
     ]
    }
   ],
   "source": [
    "i=0\n",
    "sum=0\n",
    "while i <101 :\n",
    "    sum = sum + i\n",
    "    i+=1\n",
    "print(\"sum=\",sum)"
   ]
  },
  {
   "cell_type": "code",
   "execution_count": 4,
   "metadata": {},
   "outputs": [
    {
     "output_type": "stream",
     "name": "stdout",
     "text": [
      "a[ 0 ] 자료형: <class 'str'>  값: 1\na[ 1 ] 자료형: <class 'int'>  값: 2\na[ 2 ] 자료형: <class 'str'>  값: 3\na[ 3 ] 자료형: <class 'int'>  값: 55\n"
     ]
    }
   ],
   "source": [
    "i=0\n",
    "for a in [\"1\",2,\"3\",55]:\n",
    "\tprint(\"a[\",i,\"] 자료형:\",type(a),\" 값:\",a)\n",
    "\ti+=1"
   ]
  },
  {
   "cell_type": "code",
   "execution_count": 5,
   "metadata": {},
   "outputs": [
    {
     "output_type": "stream",
     "name": "stdout",
     "text": [
      "1 ,2 ,3 ,4 ,5 ,6 ,7 ,8 ,9 ,"
     ]
    }
   ],
   "source": [
    "for i in range(1,10,1):\n",
    "\tprint(i,\",\",end=\"\")"
   ]
  },
  {
   "cell_type": "code",
   "execution_count": 6,
   "metadata": {},
   "outputs": [
    {
     "output_type": "stream",
     "name": "stdout",
     "text": [
      "0 ,1 ,2 ,3 ,4 ,5 ,6 ,7 ,8 ,9 ,"
     ]
    }
   ],
   "source": [
    "for i in range(10):\n",
    "\tprint(i,\",\",end=\"\")\n"
   ]
  },
  {
   "cell_type": "code",
   "execution_count": 7,
   "metadata": {},
   "outputs": [
    {
     "output_type": "stream",
     "name": "stdout",
     "text": [
      "1 ,2 ,3 ,4 ,5 ,6 ,7 ,8 ,9 ,"
     ]
    }
   ],
   "source": [
    "for i in range(1,10):\n",
    "\tprint(i,\",\",end=\"\")"
   ]
  },
  {
   "cell_type": "code",
   "execution_count": 9,
   "metadata": {},
   "outputs": [
    {
     "output_type": "stream",
     "name": "stdout",
     "text": [
      "1 ,3 ,5 ,7 ,9 ,"
     ]
    }
   ],
   "source": [
    "for i in range(1,10,2):\n",
    "\tprint(i,\",\",end=\"\")"
   ]
  },
  {
   "cell_type": "code",
   "execution_count": 10,
   "metadata": {},
   "outputs": [
    {
     "output_type": "stream",
     "name": "stdout",
     "text": [
      "10 ,9 ,8 ,7 ,6 ,5 ,4 ,3 ,2 ,1 ,"
     ]
    }
   ],
   "source": [
    "for i in range(10,0,-1):\n",
    "\tprint(i,\",\",end=\"\")"
   ]
  },
  {
   "cell_type": "code",
   "execution_count": 11,
   "metadata": {},
   "outputs": [
    {
     "output_type": "stream",
     "name": "stdout",
     "text": [
      "0 ,1 ,2 ,"
     ]
    }
   ],
   "source": [
    "for i in range(10):\n",
    "\tif(i==3):  #3일때 for 탈출\n",
    "\t\tbreak\n",
    "\tprint(i,\",\",end=\"\")"
   ]
  },
  {
   "cell_type": "code",
   "execution_count": 13,
   "metadata": {},
   "outputs": [
    {
     "output_type": "stream",
     "name": "stdout",
     "text": [
      "0 ,1 ,2 ,4 ,5 ,6 ,7 ,8 ,9 ,"
     ]
    }
   ],
   "source": [
    "for i in range(10):\n",
    "\tif(i==3):  #3일때 다음 숫자로 넘어감\n",
    "\t\tcontinuefor i in range(1,121):\n",
    "\tprint(\"*\",end=\"\")\n",
    "\tif(i%30==0): print(end=\"\\n\")\n",
    "\tprint(i,\",\",end=\"\")"
   ]
  },
  {
   "cell_type": "code",
   "execution_count": 14,
   "metadata": {},
   "outputs": [
    {
     "output_type": "stream",
     "name": "stdout",
     "text": [
      "******************************\n******************************\n******************************\n******************************\n"
     ]
    }
   ],
   "source": [
    "for i in range(1,121):  #1부터 120까지 반복하면서\n",
    "\tprint(\"*\",end=\"\")  # *을 1찍고 줄바꿈 없이 다음으로 넘어감\n",
    "\tif(i%30==0): print(end=\"\\n\")  # 30번째마다 줄바꿈"
   ]
  },
  {
   "cell_type": "code",
   "execution_count": 15,
   "metadata": {},
   "outputs": [
    {
     "output_type": "stream",
     "name": "stdout",
     "text": [
      "1 * 1 = 1\n1 * 2 = 2\n1 * 3 = 3\n1 * 4 = 4\n1 * 5 = 5\n1 * 6 = 6\n1 * 7 = 7\n1 * 8 = 8\n1 * 9 = 9\n********************\n2 * 1 = 2\n2 * 2 = 4\n2 * 3 = 6\n2 * 4 = 8\n2 * 5 = 10\n2 * 6 = 12\n2 * 7 = 14\n2 * 8 = 16\n2 * 9 = 18\n********************\n3 * 1 = 3\n3 * 2 = 6\n3 * 3 = 9\n3 * 4 = 12\n3 * 5 = 15\n3 * 6 = 18\n3 * 7 = 21\n3 * 8 = 24\n3 * 9 = 27\n********************\n4 * 1 = 4\n4 * 2 = 8\n4 * 3 = 12\n4 * 4 = 16\n4 * 5 = 20\n4 * 6 = 24\n4 * 7 = 28\n4 * 8 = 32\n4 * 9 = 36\n********************\n5 * 1 = 5\n5 * 2 = 10\n5 * 3 = 15\n5 * 4 = 20\n5 * 5 = 25\n5 * 6 = 30\n5 * 7 = 35\n5 * 8 = 40\n5 * 9 = 45\n********************\n6 * 1 = 6\n6 * 2 = 12\n6 * 3 = 18\n6 * 4 = 24\n6 * 5 = 30\n6 * 6 = 36\n6 * 7 = 42\n6 * 8 = 48\n6 * 9 = 54\n********************\n7 * 1 = 7\n7 * 2 = 14\n7 * 3 = 21\n7 * 4 = 28\n7 * 5 = 35\n7 * 6 = 42\n7 * 7 = 49\n7 * 8 = 56\n7 * 9 = 63\n********************\n8 * 1 = 8\n8 * 2 = 16\n8 * 3 = 24\n8 * 4 = 32\n8 * 5 = 40\n8 * 6 = 48\n8 * 7 = 56\n8 * 8 = 64\n8 * 9 = 72\n********************\n9 * 1 = 9\n9 * 2 = 18\n9 * 3 = 27\n9 * 4 = 36\n9 * 5 = 45\n9 * 6 = 54\n9 * 7 = 63\n9 * 8 = 72\n9 * 9 = 81\n********************\n"
     ]
    }
   ],
   "source": []
  },
  {
   "cell_type": "code",
   "execution_count": null,
   "metadata": {},
   "outputs": [],
   "source": [
    "for i in range(1,10):   #1부터 9까지 반복 \n",
    "    for j in range(1,10):  #i 하나마다 1부터 9까지 다시 반복\n",
    "        print( i,\"*\",j,\"=\",i*j) # 구구단 출력\n",
    "    print(\"********************\") # 1개단 끝나면 별찍기"
   ]
  },
  {
   "cell_type": "code",
   "execution_count": 17,
   "metadata": {},
   "outputs": [
    {
     "output_type": "stream",
     "name": "stdout",
     "text": [
      "*********\n********\n*******\n******\n*****\n****\n***\n**\n*\n"
     ]
    }
   ],
   "source": [
    "for i in range(1,10): #1부터 9까지\n",
    "    for j in range(i,10): #i마다 다시 1부터 9까지\n",
    "        print( \"*\",end=\"\") #줄바꿈없이 별찍기\n",
    "    print(end=\"\\n\")  #j끝나면 줄바꿈"
   ]
  },
  {
   "cell_type": "code",
   "execution_count": 18,
   "metadata": {},
   "outputs": [
    {
     "output_type": "stream",
     "name": "stdout",
     "text": [
      "*********\n********\n*******\n******\n*****\n****\n***\n**\n*\n"
     ]
    }
   ],
   "source": [
    "i=1\n",
    "while True:\n",
    "    j=i\n",
    "    while True:\n",
    "        if(j==10): break\n",
    "        print( \"*\",end=\"\")        \n",
    "        j+=1    \n",
    "    if(i==10): break\n",
    "    print(end=\"\\n\")\n",
    "    i+=1"
   ]
  },
  {
   "cell_type": "code",
   "execution_count": 20,
   "metadata": {},
   "outputs": [
    {
     "output_type": "stream",
     "name": "stdout",
     "text": [
      "1 월 :1, 2, 3, 4, 5, 6, 7, 8, 9, 10, 11, 12, 13, 14, 15, 16, 17, 18, 19, 20, 21, 22, 23, 24, 25, 26, 27, 28, 29, 30, 31, \n2 월 :1, 2, 3, 4, 5, 6, 7, 8, 9, 10, 11, 12, 13, 14, 15, 16, 17, 18, 19, 20, 21, 22, 23, 24, 25, 26, 27, 28, \n3 월 :1, 2, 3, 4, 5, 6, 7, 8, 9, 10, 11, 12, 13, 14, 15, 16, 17, 18, 19, 20, 21, 22, 23, 24, 25, 26, 27, 28, 29, 30, 31, \n4 월 :1, 2, 3, 4, 5, 6, 7, 8, 9, 10, 11, 12, 13, 14, 15, 16, 17, 18, 19, 20, 21, 22, 23, 24, 25, 26, 27, 28, 29, 30, \n5 월 :1, 2, 3, 4, 5, 6, 7, 8, 9, 10, 11, 12, 13, 14, 15, 16, 17, 18, 19, 20, 21, 22, 23, 24, 25, 26, 27, 28, 29, 30, 31, \n6 월 :1, 2, 3, 4, 5, 6, 7, 8, 9, 10, 11, 12, 13, 14, 15, 16, 17, 18, 19, 20, 21, 22, 23, 24, 25, 26, 27, 28, 29, 30, \n7 월 :1, 2, 3, 4, 5, 6, 7, 8, 9, 10, 11, 12, 13, 14, 15, 16, 17, 18, 19, 20, 21, 22, 23, 24, 25, 26, 27, 28, 29, 30, 31, \n8 월 :1, 2, 3, 4, 5, 6, 7, 8, 9, 10, 11, 12, 13, 14, 15, 16, 17, 18, 19, 20, 21, 22, 23, 24, 25, 26, 27, 28, 29, 30, 31, \n9 월 :1, 2, 3, 4, 5, 6, 7, 8, 9, 10, 11, 12, 13, 14, 15, 16, 17, 18, 19, 20, 21, 22, 23, 24, 25, 26, 27, 28, 29, 30, \n10 월 :1, 2, 3, 4, 5, 6, 7, 8, 9, 10, 11, 12, 13, 14, 15, 16, 17, 18, 19, 20, 21, 22, 23, 24, 25, 26, 27, 28, 29, 30, 31, \n11 월 :1, 2, 3, 4, 5, 6, 7, 8, 9, 10, 11, 12, 13, 14, 15, 16, 17, 18, 19, 20, 21, 22, 23, 24, 25, 26, 27, 28, 29, 30, \n12 월 :1, 2, 3, 4, 5, 6, 7, 8, 9, 10, 11, 12, 13, 14, 15, 16, 17, 18, 19, 20, 21, 22, 23, 24, 25, 26, 27, 28, 29, 30, 31, \n"
     ]
    }
   ],
   "source": [
    "Mon=1\n",
    "for LastDay in [31, 28, 31, 30, 31, 30, 31, 31, 30, 31, 30, 31]:\n",
    "    print(Mon,\"월 :\",end=\"\")\n",
    "    for Day in range(1, LastDay+1):\n",
    "        print(Day,end=\", \")\n",
    "    print(end=\"\\n\")\n",
    "    Mon+=1"
   ]
  },
  {
   "cell_type": "code",
   "execution_count": 21,
   "metadata": {},
   "outputs": [
    {
     "output_type": "stream",
     "name": "stdout",
     "text": [
      "2 * 2 = 4\t3 * 2 = 4\t4 * 2 = 4\n2 * 3 = 6\t3 * 3 = 6\t4 * 3 = 6\n2 * 4 = 8\t3 * 4 = 8\t4 * 4 = 8\n2 * 5 = 10\t3 * 5 = 10\t4 * 5 = 10\n2 * 6 = 12\t3 * 6 = 12\t4 * 6 = 12\n2 * 7 = 14\t3 * 7 = 14\t4 * 7 = 14\n2 * 8 = 16\t3 * 8 = 16\t4 * 8 = 16\n2 * 9 = 18\t3 * 9 = 18\t4 * 9 = 18\n\n5 * 2 = 10\t6 * 2 = 10\t7 * 2 = 10\n5 * 3 = 15\t6 * 3 = 15\t7 * 3 = 15\n5 * 4 = 20\t6 * 4 = 20\t7 * 4 = 20\n5 * 5 = 25\t6 * 5 = 25\t7 * 5 = 25\n5 * 6 = 30\t6 * 6 = 30\t7 * 6 = 30\n5 * 7 = 35\t6 * 7 = 35\t7 * 7 = 35\n5 * 8 = 40\t6 * 8 = 40\t7 * 8 = 40\n5 * 9 = 45\t6 * 9 = 45\t7 * 9 = 45\n\n8 * 2 = 16\t9 * 2 = 16\t\n8 * 3 = 24\t9 * 3 = 24\t\n8 * 4 = 32\t9 * 4 = 32\t\n8 * 5 = 40\t9 * 5 = 40\t\n8 * 6 = 48\t9 * 6 = 48\t\n8 * 7 = 56\t9 * 7 = 56\t\n8 * 8 = 64\t9 * 8 = 64\t\n8 * 9 = 72\t9 * 9 = 72\t\n\n"
     ]
    }
   ],
   "source": [
    "for i in range(2,10,3): #2, 5, 8\n",
    "    for j in range(2,10): #2부터 9까지\n",
    "        print(i,\"*\",j,\"=\",i*j,end=\"\\t\")  #구구단 출력후 탭\n",
    "        print(i+1,\"*\",j,\"=\",i*j,end=\"\\t\") # 2, 5, 8 단 +1 단\n",
    "        if(i+2!=10): print(i+2,\"*\",j,\"=\",i*j,end=\"\\n\")  #8단이 아니면 # +2 단 출력후 줄바꿈\n",
    "        else: print(end=\"\\n\")  #8단줄이면 10단 출력없이 줄바꿈\n",
    "    print(end=\"\\n\")  "
   ]
  },
  {
   "cell_type": "code",
   "execution_count": 22,
   "metadata": {},
   "outputs": [
    {
     "output_type": "stream",
     "name": "stdout",
     "text": [
      "2 * 2 = 4\t5 * 2 = 4\t8 * 2 = 4\n2 * 3 = 6\t5 * 3 = 6\t8 * 3 = 6\n2 * 4 = 8\t5 * 4 = 8\t8 * 4 = 8\n2 * 5 = 10\t5 * 5 = 10\t8 * 5 = 10\n2 * 6 = 12\t5 * 6 = 12\t8 * 6 = 12\n2 * 7 = 14\t5 * 7 = 14\t8 * 7 = 14\n2 * 8 = 16\t5 * 8 = 16\t8 * 8 = 16\n2 * 9 = 18\t5 * 9 = 18\t8 * 9 = 18\n\n3 * 2 = 6\t6 * 2 = 6\t9 * 2 = 6\n3 * 3 = 9\t6 * 3 = 9\t9 * 3 = 9\n3 * 4 = 12\t6 * 4 = 12\t9 * 4 = 12\n3 * 5 = 15\t6 * 5 = 15\t9 * 5 = 15\n3 * 6 = 18\t6 * 6 = 18\t9 * 6 = 18\n3 * 7 = 21\t6 * 7 = 21\t9 * 7 = 21\n3 * 8 = 24\t6 * 8 = 24\t9 * 8 = 24\n3 * 9 = 27\t6 * 9 = 27\t9 * 9 = 27\n\n4 * 2 = 8\t7 * 2 = 8\t\n4 * 3 = 12\t7 * 3 = 12\t\n4 * 4 = 16\t7 * 4 = 16\t\n4 * 5 = 20\t7 * 5 = 20\t\n4 * 6 = 24\t7 * 6 = 24\t\n4 * 7 = 28\t7 * 7 = 28\t\n4 * 8 = 32\t7 * 8 = 32\t\n4 * 9 = 36\t7 * 9 = 36\t\n\n"
     ]
    }
   ],
   "source": [
    "for i in range(2,5):   #2단부터 4단까지\n",
    "    for j in range(2,10):  # 2행부터 9행까지\n",
    "        print(i,\"*\",j,\"=\",i*j,end=\"\\t\")  # 구구단 출력후 탭 \n",
    "        print(i+3,\"*\",j,\"=\",i*j,end=\"\\t\") # 3단 더해가며 출력\n",
    "        if(i+6!=10): print(i+6,\"*\",j,\"=\",i*j,end=\"\\n\") # 4단줄이 아니면 6단+도 출력\n",
    "        else: print(end=\"\\n\")  #4단줄이면 10단 출력없이 줄바꿈\n",
    "    print(end=\"\\n\")"
   ]
  }
 ]
}