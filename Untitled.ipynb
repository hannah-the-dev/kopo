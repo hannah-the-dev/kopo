{
 "cells": [
  {
   "cell_type": "code",
   "execution_count": 16,
   "metadata": {},
   "outputs": [
    {
     "name": "stdout",
     "output_type": "stream",
     "text": [
      "지급 달러:  987.022\n",
      "1.9779999999999518\n",
      "991.3199999999488\n"
     ]
    }
   ],
   "source": [
    "import math\n",
    "# won = int(input(\"Please input won amount\"))\n",
    "won = 1000000\n",
    "rate = 1010.12\n",
    "feeRate = 0.002\n",
    "dolwFee = math.floor(won / (rate + feeRate)) - math.floor(won / (rate + feeRate)) % 1 #1달러 빌까지 지급\n",
    "\n",
    "dollar = dolwFee * (1-feeRate)\n",
    "print(\"지급 달러: \", dollar)\n",
    "fee = dolwFee - dollar\n",
    "print(fee)\n",
    "change = won - dolwFee * rate\n",
    "print(change)"
   ]
  }
 ],
 "metadata": {
  "kernelspec": {
   "display_name": "Python 3",
   "language": "python",
   "name": "python3"
  },
  "language_info": {
   "codemirror_mode": {
    "name": "ipython",
    "version": 3
   },
   "file_extension": ".py",
   "mimetype": "text/x-python",
   "name": "python",
   "nbconvert_exporter": "python",
   "pygments_lexer": "ipython3",
   "version": "3.8.5"
  }
 },
 "nbformat": 4,
 "nbformat_minor": 4
}
