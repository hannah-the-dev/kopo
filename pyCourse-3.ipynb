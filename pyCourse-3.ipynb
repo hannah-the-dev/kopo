{
 "metadata": {
  "language_info": {
   "codemirror_mode": {
    "name": "ipython",
    "version": 3
   },
   "file_extension": ".py",
   "mimetype": "text/x-python",
   "name": "python",
   "nbconvert_exporter": "python",
   "pygments_lexer": "ipython3",
   "version": "3.8.3"
  },
  "orig_nbformat": 2,
  "kernelspec": {
   "name": "python383jvsc74a57bd02e51d3ef8019aec064d0437ec4616c70567da0e4beb5b0869c4b9f0dd79aca08",
   "display_name": "Python 3.8.3 64-bit (conda)"
  }
 },
 "nbformat": 4,
 "nbformat_minor": 2,
 "cells": [
  {
   "cell_type": "code",
   "execution_count": 2,
   "metadata": {},
   "outputs": [
    {
     "output_type": "stream",
     "name": "stdout",
     "text": [
      "a = 10  b = 1200  c = 1200  d = -1234\n"
     ]
    }
   ],
   "source": [
    "a=10\n",
    "b=1200\n",
    "c=+1200\n",
    "d=-1234\n",
    "print(\"a =\",a ,\" b =\",b ,\" c =\",c, \" d =\",d)"
   ]
  },
  {
   "cell_type": "code",
   "execution_count": 3,
   "metadata": {},
   "outputs": [
    {
     "output_type": "stream",
     "name": "stdout",
     "text": [
      "a+b= 255510442125830710419794796092205501516501430550152055055015215205510\na*b= 4945662337664182251045508647662854964228779292407290431545377548887919021506299614458775856747962183641984855519033366861090951680866469\n"
     ]
    }
   ],
   "source": [
    "a=21098134232408921340891340984312089423089341208943120934120894312089\n",
    "b=234412307893421789078903455107893412093412089341208934120894320893421\n",
    "print(\"a+b=\", a+b)\n",
    "print(\"a*b=\", a*b)"
   ]
  },
  {
   "cell_type": "code",
   "execution_count": 4,
   "metadata": {},
   "outputs": [
    {
     "output_type": "execute_result",
     "data": {
      "text/plain": [
       "10"
      ]
     },
     "metadata": {},
     "execution_count": 4
    }
   ],
   "source": [
    "0b1010"
   ]
  },
  {
   "cell_type": "code",
   "execution_count": 5,
   "metadata": {},
   "outputs": [
    {
     "output_type": "execute_result",
     "data": {
      "text/plain": [
       "15"
      ]
     },
     "metadata": {},
     "execution_count": 5
    }
   ],
   "source": [
    "0b1111"
   ]
  },
  {
   "cell_type": "code",
   "execution_count": 6,
   "metadata": {},
   "outputs": [
    {
     "output_type": "execute_result",
     "data": {
      "text/plain": [
       "1"
      ]
     },
     "metadata": {},
     "execution_count": 6
    }
   ],
   "source": [
    "0b0001"
   ]
  },
  {
   "cell_type": "code",
   "execution_count": 7,
   "metadata": {},
   "outputs": [
    {
     "output_type": "error",
     "ename": "SyntaxError",
     "evalue": "invalid digit '2' in binary literal (<ipython-input-7-33a3ac7caac5>, line 1)",
     "traceback": [
      "\u001b[1;36m  File \u001b[1;32m\"<ipython-input-7-33a3ac7caac5>\"\u001b[1;36m, line \u001b[1;32m1\u001b[0m\n\u001b[1;33m    0b0201\u001b[0m\n\u001b[1;37m       ^\u001b[0m\n\u001b[1;31mSyntaxError\u001b[0m\u001b[1;31m:\u001b[0m invalid digit '2' in binary literal\n"
     ]
    }
   ],
   "source": [
    "0b0201"
   ]
  },
  {
   "cell_type": "code",
   "execution_count": 8,
   "metadata": {},
   "outputs": [
    {
     "output_type": "execute_result",
     "data": {
      "text/plain": [
       "16"
      ]
     },
     "metadata": {},
     "execution_count": 8
    }
   ],
   "source": [
    "0x10"
   ]
  },
  {
   "cell_type": "code",
   "execution_count": 9,
   "metadata": {},
   "outputs": [
    {
     "output_type": "execute_result",
     "data": {
      "text/plain": [
       "26"
      ]
     },
     "metadata": {},
     "execution_count": 9
    }
   ],
   "source": [
    "0x1a"
   ]
  },
  {
   "cell_type": "code",
   "execution_count": 10,
   "metadata": {},
   "outputs": [
    {
     "output_type": "execute_result",
     "data": {
      "text/plain": [
       "47"
      ]
     },
     "metadata": {},
     "execution_count": 10
    }
   ],
   "source": [
    "0x2f"
   ]
  },
  {
   "cell_type": "code",
   "execution_count": 11,
   "metadata": {},
   "outputs": [
    {
     "output_type": "error",
     "ename": "SyntaxError",
     "evalue": "invalid syntax (<ipython-input-11-46cd4b336939>, line 1)",
     "traceback": [
      "\u001b[1;36m  File \u001b[1;32m\"<ipython-input-11-46cd4b336939>\"\u001b[1;36m, line \u001b[1;32m1\u001b[0m\n\u001b[1;33m    0x3z\u001b[0m\n\u001b[1;37m       ^\u001b[0m\n\u001b[1;31mSyntaxError\u001b[0m\u001b[1;31m:\u001b[0m invalid syntax\n"
     ]
    }
   ],
   "source": [
    "0x3z"
   ]
  },
  {
   "cell_type": "code",
   "execution_count": 13,
   "metadata": {},
   "outputs": [
    {
     "output_type": "stream",
     "name": "stdout",
     "text": [
      "0xc\n0o26\n0b100001\n"
     ]
    }
   ],
   "source": [
    "print(hex(12))  # 12 -> 16진수\n",
    "print(oct(22))  # 22 -> 8진수\n",
    "print(bin(33))  # 33 -> 2진수"
   ]
  },
  {
   "cell_type": "code",
   "execution_count": 16,
   "metadata": {},
   "outputs": [
    {
     "output_type": "execute_result",
     "data": {
      "text/plain": [
       "9460000000000.0"
      ]
     },
     "metadata": {},
     "execution_count": 16
    }
   ],
   "source": [
    "9.46e12  # 9.46 * 10 ^ 12"
   ]
  },
  {
   "cell_type": "code",
   "execution_count": 25,
   "metadata": {},
   "outputs": [
    {
     "output_type": "stream",
     "name": "stdout",
     "text": [
      "1.2131232417683412e+32\n"
     ]
    }
   ],
   "source": [
    "print(9.46e12 + 121312324176834127678963412341298)  # 유효숫자만큼 표현"
   ]
  },
  {
   "cell_type": "code",
   "execution_count": 26,
   "metadata": {},
   "outputs": [
    {
     "output_type": "error",
     "ename": "SyntaxError",
     "evalue": "invalid syntax (<ipython-input-26-1be7dd2e7d7f>, line 1)",
     "traceback": [
      "\u001b[1;36m  File \u001b[1;32m\"<ipython-input-26-1be7dd2e7d7f>\"\u001b[1;36m, line \u001b[1;32m1\u001b[0m\n\u001b[1;33m    a=1+2i\u001b[0m\n\u001b[1;37m         ^\u001b[0m\n\u001b[1;31mSyntaxError\u001b[0m\u001b[1;31m:\u001b[0m invalid syntax\n"
     ]
    }
   ],
   "source": [
    "a=1+2i  # 허수: j 사용"
   ]
  },
  {
   "cell_type": "code",
   "execution_count": 27,
   "metadata": {},
   "outputs": [
    {
     "output_type": "stream",
     "name": "stdout",
     "text": [
      "(2+0j) (5+0j)\n"
     ]
    }
   ],
   "source": [
    "a=1+2j\n",
    "b=1-2j\n",
    "print(a+b, a*b)"
   ]
  },
  {
   "cell_type": "code",
   "execution_count": 29,
   "metadata": {},
   "outputs": [
    {
     "output_type": "error",
     "ename": "TypeError",
     "evalue": "can't multiply sequence by non-int of type 'str'",
     "traceback": [
      "\u001b[1;31m---------------------------------------------------------------------------\u001b[0m",
      "\u001b[1;31mTypeError\u001b[0m                                 Traceback (most recent call last)",
      "\u001b[1;32m<ipython-input-29-09d086402161>\u001b[0m in \u001b[0;36m<module>\u001b[1;34m\u001b[0m\n\u001b[0;32m      1\u001b[0m \u001b[0ma\u001b[0m\u001b[1;33m=\u001b[0m\u001b[1;34m\"aaa\"\u001b[0m\u001b[1;33m\u001b[0m\u001b[1;33m\u001b[0m\u001b[0m\n\u001b[0;32m      2\u001b[0m \u001b[0mb\u001b[0m\u001b[1;33m=\u001b[0m\u001b[1;34m\"bbb\"\u001b[0m\u001b[1;33m\u001b[0m\u001b[1;33m\u001b[0m\u001b[0m\n\u001b[1;32m----> 3\u001b[1;33m \u001b[0ma\u001b[0m\u001b[1;33m*\u001b[0m\u001b[0mb\u001b[0m\u001b[1;33m\u001b[0m\u001b[1;33m\u001b[0m\u001b[0m\n\u001b[0m",
      "\u001b[1;31mTypeError\u001b[0m: can't multiply sequence by non-int of type 'str'"
     ]
    }
   ],
   "source": [
    "a=\"aaa\"\n",
    "b=\"bbb\"\n",
    "a*b"
   ]
  },
  {
   "cell_type": "code",
   "execution_count": 31,
   "metadata": {},
   "outputs": [
    {
     "output_type": "execute_result",
     "data": {
      "text/plain": [
       "'aaabbb'"
      ]
     },
     "metadata": {},
     "execution_count": 31
    }
   ],
   "source": [
    "a+b"
   ]
  },
  {
   "cell_type": "code",
   "execution_count": 32,
   "metadata": {},
   "outputs": [
    {
     "output_type": "stream",
     "name": "stdout",
     "text": [
      "aaaaaaaaa\nbbbbbbbbb\n"
     ]
    }
   ],
   "source": [
    "print(a*3)\n",
    "print(b*3)"
   ]
  },
  {
   "cell_type": "code",
   "execution_count": 33,
   "metadata": {},
   "outputs": [
    {
     "output_type": "stream",
     "name": "stdout",
     "text": [
      "오늘 열심히 파이썬을 공부했습니다. \n내일도 열심히 파이썬을 공부할 것입니다. \n그래서 일등할 것입니다\n오늘 열심히 파이썬을 공부했습니다. 내일도 열심히 파이썬을 공부할 것입니다. 그래서 일등할 것입니다\n"
     ]
    }
   ],
   "source": [
    "print(\"\"\"오늘 열심히 파이썬을 공부했습니다. \n",
    "내일도 열심히 파이썬을 공부할 것입니다. \n",
    "그래서 일등할 것입니다\"\"\")  # 줄바꿈 그대로 반영\n",
    "\t  \n",
    "print(\"오늘 열심히 파이썬을 공부했습니다. \\\n",
    "내일도 열심히 파이썬을 공부할 것입니다. \\\n",
    "그래서 일등할 것입니다\")    # 줄바꿈 없이 출력"
   ]
  },
  {
   "cell_type": "code",
   "execution_count": null,
   "metadata": {},
   "outputs": [],
   "source": []
  },
  {
   "cell_type": "code",
   "execution_count": 35,
   "metadata": {},
   "outputs": [
    {
     "output_type": "stream",
     "name": "stdout",
     "text": [
      "False\nTrue\nTrue\n<class 'int'>\n<class 'bool'>\n"
     ]
    }
   ],
   "source": [
    "a = True\n",
    "b = False\n",
    "print(a and b)\n",
    "print(a or b)\n",
    "\t  \n",
    "a= 0\n",
    "b = a == 0\n",
    "print(b)\n",
    "print(type(a))\n",
    "print(type(b))"
   ]
  },
  {
   "cell_type": "code",
   "execution_count": 36,
   "metadata": {},
   "outputs": [
    {
     "output_type": "stream",
     "name": "stdout",
     "text": [
      "참\n"
     ]
    }
   ],
   "source": [
    "a = True\n",
    "b = False\n",
    "if 1 > 2 and a and b or b or a:\n",
    "    # 1 > 2 (False) & True & False or False or True -> 'or True'\n",
    "\t  print (\"참\")\n",
    "else:\n",
    "\t  print (\"거짓\")"
   ]
  },
  {
   "cell_type": "code",
   "execution_count": 44,
   "metadata": {},
   "outputs": [
    {
     "output_type": "stream",
     "name": "stdout",
     "text": [
      "['빨', '주', '노', '초', '파', '남', '보']\n빨간 색\n주황 색\n노란 색\n초록 색\n파란 색\n남 색\n보라 색\nUV 색\n"
     ]
    }
   ],
   "source": [
    "rainbow = [\"빨\",\"주\",\"노\",\"초\",\"파\",\"남\",\"보\"]\n",
    "print(rainbow)\n",
    "rainbow = [\"빨간\",\"주황\",\"노란\",\"초록\",\"파란\",\"남\",\"보라\"]\n",
    "# for color in rainbow :\n",
    "# \t  print ( color, \"색\")\n",
    "rainbow.append(\"UV\")\n",
    "for color in rainbow :\n",
    "\t  print ( color, \"색\")"
   ]
  },
  {
   "cell_type": "code",
   "execution_count": 45,
   "metadata": {},
   "outputs": [
    {
     "output_type": "error",
     "ename": "AttributeError",
     "evalue": "'tuple' object has no attribute 'append'",
     "traceback": [
      "\u001b[1;31m---------------------------------------------------------------------------\u001b[0m",
      "\u001b[1;31mAttributeError\u001b[0m                            Traceback (most recent call last)",
      "\u001b[1;32m<ipython-input-45-6fff8c033341>\u001b[0m in \u001b[0;36m<module>\u001b[1;34m\u001b[0m\n\u001b[0;32m      2\u001b[0m \u001b[1;31m# for color in rainbow :\u001b[0m\u001b[1;33m\u001b[0m\u001b[1;33m\u001b[0m\u001b[1;33m\u001b[0m\u001b[0m\n\u001b[0;32m      3\u001b[0m \u001b[1;31m#     print ( color, \"색\")\u001b[0m\u001b[1;33m\u001b[0m\u001b[1;33m\u001b[0m\u001b[1;33m\u001b[0m\u001b[0m\n\u001b[1;32m----> 4\u001b[1;33m \u001b[0mrainbow\u001b[0m\u001b[1;33m.\u001b[0m\u001b[0mappend\u001b[0m\u001b[1;33m(\u001b[0m\u001b[1;34m\"UV\"\u001b[0m\u001b[1;33m)\u001b[0m\u001b[1;33m\u001b[0m\u001b[1;33m\u001b[0m\u001b[0m\n\u001b[0m\u001b[0;32m      5\u001b[0m \u001b[1;32mfor\u001b[0m \u001b[0mcolor\u001b[0m \u001b[1;32min\u001b[0m \u001b[0mrainbow\u001b[0m \u001b[1;33m:\u001b[0m\u001b[1;33m\u001b[0m\u001b[1;33m\u001b[0m\u001b[0m\n\u001b[0;32m      6\u001b[0m           \u001b[0mprint\u001b[0m \u001b[1;33m(\u001b[0m \u001b[0mcolor\u001b[0m\u001b[1;33m,\u001b[0m \u001b[1;34m\"색\"\u001b[0m\u001b[1;33m)\u001b[0m\u001b[1;33m\u001b[0m\u001b[1;33m\u001b[0m\u001b[0m\n",
      "\u001b[1;31mAttributeError\u001b[0m: 'tuple' object has no attribute 'append'"
     ]
    }
   ],
   "source": [
    "rainbow = (\"빨간\",\"주황\",\"노란\",\"초록\",\"파란\",\"남\",\"보라\")  \n",
    "# for color in rainbow :\n",
    "#     print ( color, \"색\")\n",
    "rainbow.append(\"UV\")\n",
    "for color in rainbow :\n",
    "\t  print ( color, \"색\")"
   ]
  },
  {
   "cell_type": "code",
   "execution_count": null,
   "metadata": {},
   "outputs": [],
   "source": []
  }
 ]
}