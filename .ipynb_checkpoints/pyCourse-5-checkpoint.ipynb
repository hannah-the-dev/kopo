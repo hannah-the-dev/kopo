{
 "cells": [
  {
   "cell_type": "code",
   "execution_count": 12,
   "metadata": {},
   "outputs": [],
   "source": [
    "name = input(\"What is your name?\")\n",
    "if name == \"안설란\":\n",
    "    print(\"Welcome, master.\")"
   ]
  },
  {
   "cell_type": "code",
   "execution_count": 3,
   "metadata": {},
   "outputs": [
    {
     "name": "stdout",
     "output_type": "stream",
     "text": [
      "What is your gender?글쎄\n",
      "립스틱 색이 예쁩니다.\n"
     ]
    }
   ],
   "source": [
    "gender = input(\"What is your gender?\")\n",
    "if gender == \"남자\":\n",
    "    print(\"넥타이가 멋있습니다.\")\n",
    "else:\n",
    "    print(\"립스틱 색이 예쁩니다.\")"
   ]
  },
  {
   "cell_type": "code",
   "execution_count": 6,
   "metadata": {},
   "outputs": [
    {
     "name": "stdout",
     "output_type": "stream",
     "text": [
      "얼마를 구매하셨나요?100원\n"
     ]
    },
    {
     "ename": "ValueError",
     "evalue": "invalid literal for int() with base 10: '100원'",
     "output_type": "error",
     "traceback": [
      "\u001b[1;31m---------------------------------------------------------------------------\u001b[0m",
      "\u001b[1;31mValueError\u001b[0m                                Traceback (most recent call last)",
      "\u001b[1;32m<ipython-input-6-d9c387499e2b>\u001b[0m in \u001b[0;36m<module>\u001b[1;34m\u001b[0m\n\u001b[1;32m----> 1\u001b[1;33m \u001b[0mprice\u001b[0m \u001b[1;33m=\u001b[0m  \u001b[0mint\u001b[0m\u001b[1;33m(\u001b[0m\u001b[0minput\u001b[0m\u001b[1;33m(\u001b[0m\u001b[1;34m\"얼마를 구매하셨나요?\"\u001b[0m\u001b[1;33m)\u001b[0m\u001b[1;33m)\u001b[0m\u001b[1;33m\u001b[0m\u001b[1;33m\u001b[0m\u001b[0m\n\u001b[0m\u001b[0;32m      2\u001b[0m \u001b[1;32mif\u001b[0m \u001b[0mprice\u001b[0m \u001b[1;33m<\u001b[0m \u001b[1;36m10000\u001b[0m \u001b[1;33m:\u001b[0m\u001b[1;33m\u001b[0m\u001b[1;33m\u001b[0m\u001b[0m\n\u001b[0;32m      3\u001b[0m     \u001b[0mprint\u001b[0m\u001b[1;33m(\u001b[0m\u001b[1;34m\"면세입니다.\"\u001b[0m\u001b[1;33m)\u001b[0m\u001b[1;33m\u001b[0m\u001b[1;33m\u001b[0m\u001b[0m\n\u001b[0;32m      4\u001b[0m \u001b[1;32melse\u001b[0m\u001b[1;33m:\u001b[0m\u001b[1;33m\u001b[0m\u001b[1;33m\u001b[0m\u001b[0m\n\u001b[0;32m      5\u001b[0m     \u001b[0mprint\u001b[0m\u001b[1;33m(\u001b[0m\u001b[1;34m\"세금은 10%입니다.\"\u001b[0m\u001b[1;33m)\u001b[0m\u001b[1;33m\u001b[0m\u001b[1;33m\u001b[0m\u001b[0m\n",
      "\u001b[1;31mValueError\u001b[0m: invalid literal for int() with base 10: '100원'"
     ]
    }
   ],
   "source": [
    "price =  int(input(\"얼마를 구매하셨나요?\"))\n",
    "if price < 10000 :\n",
    "    print(\"면세입니다.\")\n",
    "else:\n",
    "    print(\"세금은 10%입니다.\")"
   ]
  },
  {
   "cell_type": "code",
   "execution_count": 7,
   "metadata": {},
   "outputs": [
    {
     "name": "stdout",
     "output_type": "stream",
     "text": [
      "a는 100입니다\n"
     ]
    }
   ],
   "source": [
    "a=100\n",
    "if(a==99): print(\"a는 99입니다\")\n",
    "if(a==100): print(\"a는 100입니다\")"
   ]
  },
  {
   "cell_type": "code",
   "execution_count": 8,
   "metadata": {},
   "outputs": [
    {
     "name": "stdout",
     "output_type": "stream",
     "text": [
      "a는 100이상입니다\n"
     ]
    }
   ],
   "source": [
    "if (a>=100): print(\"a는 100이상입니다\")\n",
    "if (a<100): print(\"a는 100미만입니다\")"
   ]
  },
  {
   "cell_type": "code",
   "execution_count": 1,
   "metadata": {},
   "outputs": [
    {
     "name": "stdout",
     "output_type": "stream",
     "text": [
      "abc이다\n"
     ]
    }
   ],
   "source": [
    "a=\"abc\"\n",
    "if (a == \"abc\"): print(\"abc이다\")"
   ]
  },
  {
   "cell_type": "code",
   "execution_count": 3,
   "metadata": {},
   "outputs": [
    {
     "name": "stdout",
     "output_type": "stream",
     "text": [
      "abc보다 크거나 같은 문자다\n"
     ]
    }
   ],
   "source": [
    "if(a>\"abc\"): print(\"abc보다 큰 문자다\")\n",
    "if(a>=\"abc\"): print(\"abc보다 크거나 같은 문자다\")"
   ]
  },
  {
   "cell_type": "code",
   "execution_count": 11,
   "metadata": {},
   "outputs": [
    {
     "name": "stdout",
     "output_type": "stream",
     "text": [
      "1: abc보다 큰 문자다\n"
     ]
    }
   ],
   "source": [
    "a=\"abd\"\n",
    "if(a>\"abc\"): print(\"1: abc보다 큰 문자다\")\n",
    "a=\"abb\"\n",
    "if(a>\"abc\"): print(\"2: abc보다 큰 문자다\")"
   ]
  },
  {
   "cell_type": "code",
   "execution_count": 12,
   "metadata": {},
   "outputs": [
    {
     "name": "stdout",
     "output_type": "stream",
     "text": [
      "점수를 입력하셔요?44\n",
      "학점은 F입니다.\n"
     ]
    }
   ],
   "source": [
    "x =  int(input(\"점수를 입력하셔요?\"))\n",
    "if 0 <= x and x < 60 : print(\"학점은 F입니다.\")\n",
    "if 60 <= x and x < 70 : print(\"학점은 D입니다.\")\n",
    "if 70 <= x and x < 80 : print(\"학점은 C입니다.\")\n",
    "if 80 <= x and x < 90 : print(\"학점은 B입니다.\")\n",
    "if 90 <= x and x <= 100 : print(\"학점은 A입니다.\")"
   ]
  },
  {
   "cell_type": "code",
   "execution_count": 14,
   "metadata": {},
   "outputs": [
    {
     "name": "stdout",
     "output_type": "stream",
     "text": [
      "영문 알파벳 한글자를 입력하셔요?A\n",
      "대문자 입니다.\n"
     ]
    }
   ],
   "source": [
    "x =  input(\"영문 알파벳 한글자를 입력하셔요?\")\n",
    "if \"a\" <= x and x <= \"z\" : print(\"소문자 입니다.\")\n",
    "if \"A\" <= x and x <= \"Z\" : print(\"대문자 입니다.\")"
   ]
  },
  {
   "cell_type": "code",
   "execution_count": 17,
   "metadata": {},
   "outputs": [
    {
     "name": "stdout",
     "output_type": "stream",
     "text": [
      "50보다 큰 수는 50을 빼겠습니다.\n",
      "50\n"
     ]
    }
   ],
   "source": [
    "a=100\n",
    "if a>50:\n",
    "    print(\"50보다 큰 수는 50을 빼겠습니다.\")\n",
    "    a = a -50\n",
    "    \n",
    "print(a)"
   ]
  },
  {
   "cell_type": "code",
   "execution_count": 21,
   "metadata": {},
   "outputs": [
    {
     "name": "stdout",
     "output_type": "stream",
     "text": [
      "점수를 입력하셔요?(0~100)77\n",
      "학점은 C입니다\n"
     ]
    }
   ],
   "source": [
    "x=int(input(\"점수를 입력하셔요?(0~100)\"))\n",
    "if x >= 90 : print (\"학점은 A입니다\")\n",
    "elif x >= 80 : print (\"학점은 B입니다\")\n",
    "elif x >= 70 : print (\"학점은 C입니다\")\n",
    "elif x >= 60 : print (\"학점은 D입니다\")\n",
    "else  : print (\"학점은 F입니다\")"
   ]
  },
  {
   "cell_type": "code",
   "execution_count": 25,
   "metadata": {},
   "outputs": [
    {
     "name": "stdout",
     "output_type": "stream",
     "text": [
      "숫자를 입력하셔요?11\n",
      "3의 배수가 아닌 홀수입니다\n"
     ]
    }
   ],
   "source": [
    "x=int(input(\"숫자를 입력하셔요?\"))\n",
    "if x % 2 == 0 :\n",
    "    if x%4==0:\n",
    "        print(\"4의 배수인 짝수입니다(당연히 짝수)\")\n",
    "    else:\n",
    "        print(\"4의 배수가 아닌 짝수입니다\");\n",
    "elif x%3==0:\n",
    "    print(\"3의 배수인 홀수 입니다\")\n",
    "else:\n",
    "    print (\"3의 배수가 아닌 홀수입니다\")"
   ]
  }
 ],
 "metadata": {
  "kernelspec": {
   "display_name": "Python 3",
   "language": "python",
   "name": "python3"
  },
  "language_info": {
   "codemirror_mode": {
    "name": "ipython",
    "version": 3
   },
   "file_extension": ".py",
   "mimetype": "text/x-python",
   "name": "python",
   "nbconvert_exporter": "python",
   "pygments_lexer": "ipython3",
   "version": "3.8.5"
  }
 },
 "nbformat": 4,
 "nbformat_minor": 2
}
