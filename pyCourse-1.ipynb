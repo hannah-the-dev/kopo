{
 "metadata": {
  "language_info": {
   "codemirror_mode": {
    "name": "ipython",
    "version": 3
   },
   "file_extension": ".py",
   "mimetype": "text/x-python",
   "name": "python",
   "nbconvert_exporter": "python",
   "pygments_lexer": "ipython3",
   "version": "3.8.3"
  },
  "orig_nbformat": 2,
  "kernelspec": {
   "name": "python383jvsc74a57bd02e51d3ef8019aec064d0437ec4616c70567da0e4beb5b0869c4b9f0dd79aca08",
   "display_name": "Python 3.8.3 64-bit (conda)"
  }
 },
 "nbformat": 4,
 "nbformat_minor": 2,
 "cells": [
  {
   "cell_type": "code",
   "execution_count": 2,
   "metadata": {},
   "outputs": [
    {
     "output_type": "execute_result",
     "data": {
      "text/plain": [
       "3"
      ]
     },
     "metadata": {},
     "execution_count": 2
    }
   ],
   "source": [
    "1+2     # 공백 없어도 인식"
   ]
  },
  {
   "cell_type": "code",
   "execution_count": 3,
   "metadata": {},
   "outputs": [
    {
     "output_type": "execute_result",
     "data": {
      "text/plain": [
       "3"
      ]
     },
     "metadata": {},
     "execution_count": 3
    }
   ],
   "source": [
    "1 + 2 "
   ]
  },
  {
   "cell_type": "code",
   "execution_count": 5,
   "metadata": {},
   "outputs": [
    {
     "output_type": "error",
     "ename": "IndentationError",
     "evalue": "unexpected indent (<ipython-input-5-8c2e086533a4>, line 2)",
     "traceback": [
      "\u001b[1;36m  File \u001b[1;32m\"<ipython-input-5-8c2e086533a4>\"\u001b[1;36m, line \u001b[1;32m2\u001b[0m\n\u001b[1;33m    1+2\u001b[0m\n\u001b[1;37m    ^\u001b[0m\n\u001b[1;31mIndentationError\u001b[0m\u001b[1;31m:\u001b[0m unexpected indent\n"
     ]
    }
   ],
   "source": [
    "1+3\n",
    " 1+2"
   ]
  },
  {
   "cell_type": "code",
   "execution_count": 6,
   "metadata": {},
   "outputs": [
    {
     "output_type": "stream",
     "name": "stdout",
     "text": [
      "스위치 on\n"
     ]
    }
   ],
   "source": [
    "sw = 1          # 문장마다 세미콜론 입력할 필요 없음\n",
    "\n",
    "if sw == 1:             # 블럭 시작\n",
    "    print(\"스위치 on\")     # 들여쓰기: 블럭 유지\n",
    "else:                   # 다른 블럭 시작\n",
    "    print(\"스위치 off\")    # 들여쓰기: 블럭 유지"
   ]
  },
  {
   "cell_type": "code",
   "execution_count": 7,
   "metadata": {},
   "outputs": [
    {
     "output_type": "execute_result",
     "data": {
      "text/plain": [
       "12"
      ]
     },
     "metadata": {},
     "execution_count": 7
    }
   ],
   "source": [
    "1+2;3+4; 5+ 7"
   ]
  },
  {
   "cell_type": "code",
   "execution_count": 9,
   "metadata": {},
   "outputs": [
    {
     "output_type": "stream",
     "name": "stdout",
     "text": [
      "3\n"
     ]
    },
    {
     "output_type": "error",
     "ename": "NameError",
     "evalue": "name 'PRINT' is not defined",
     "traceback": [
      "\u001b[1;31m---------------------------------------------------------------------------\u001b[0m",
      "\u001b[1;31mNameError\u001b[0m                                 Traceback (most recent call last)",
      "\u001b[1;32m<ipython-input-9-a57c39dba432>\u001b[0m in \u001b[0;36m<module>\u001b[1;34m\u001b[0m\n\u001b[0;32m      1\u001b[0m \u001b[0mprint\u001b[0m\u001b[1;33m(\u001b[0m\u001b[1;36m1\u001b[0m\u001b[1;33m+\u001b[0m\u001b[1;36m2\u001b[0m\u001b[1;33m)\u001b[0m\u001b[1;33m\u001b[0m\u001b[1;33m\u001b[0m\u001b[0m\n\u001b[0;32m      2\u001b[0m \u001b[1;31m# Print(1+2)\u001b[0m\u001b[1;33m\u001b[0m\u001b[1;33m\u001b[0m\u001b[1;33m\u001b[0m\u001b[0m\n\u001b[1;32m----> 3\u001b[1;33m \u001b[0mPRINT\u001b[0m\u001b[1;33m(\u001b[0m\u001b[1;36m1\u001b[0m\u001b[1;33m+\u001b[0m\u001b[1;36m2\u001b[0m\u001b[1;33m)\u001b[0m\u001b[1;33m\u001b[0m\u001b[1;33m\u001b[0m\u001b[0m\n\u001b[0m",
      "\u001b[1;31mNameError\u001b[0m: name 'PRINT' is not defined"
     ]
    }
   ],
   "source": [
    "print(1+2)\n",
    "# Print(1+2)\n",
    "PRINT(1+2)"
   ]
  },
  {
   "cell_type": "code",
   "execution_count": 10,
   "metadata": {},
   "outputs": [
    {
     "output_type": "stream",
     "name": "stdout",
     "text": [
      "아침 점심 저녁\n아침먹고 점심먹고 저녁\n아침먹고 점심먹고 저녁땡"
     ]
    }
   ],
   "source": [
    "a = \"아침\"\n",
    "b = \"점심\"\n",
    "c = \"저녁\"\n",
    "print(a,b,c)            # a b c \n",
    "print(a,b,c, sep=\"먹고 \") #a먹고 b먹고 c\n",
    "print(a,b,c, sep=\"먹고 \", end=\"땡\")  #a먹고 b먹고 c땡"
   ]
  },
  {
   "cell_type": "code",
   "execution_count": 1,
   "metadata": {},
   "outputs": [
    {
     "output_type": "stream",
     "name": "stdout",
     "text": [
      "아침 점심 저녁\n아침먹고 점심먹고 저녁\n아침먹고 점심먹고 저녁아침자고 점심자고 저녁아침먹고 점심먹고 저녁\n아침자고 점심자고 저녁\n"
     ]
    }
   ],
   "source": [
    "a = \"아침\"\n",
    "b = \"점심\"\n",
    "c = \"저녁\"\n",
    "print(a,b,c)            # a b c \n",
    "print(a,b,c, sep=\"먹고 \") #a먹고 b먹고 c(줄바꿈)\n",
    "print(a,b,c, sep=\"먹고 \", end=\"\")  #a먹고 b먹고 c(줄바꿈없음)\n",
    "print(a,b,c, sep=\"자고 \", end=\"\")  #a자고 b자고 c(줄바꿈없음)\n",
    "print(a,b,c, sep=\"먹고 \", end=\"\\n\")  #a먹고 b먹고 c(줄바꿈)\n",
    "print(a,b,c, sep=\"자고 \", end=\"\\n\")  #a자고 b자고 c(줄바꿈)"
   ]
  },
  {
   "cell_type": "code",
   "execution_count": 2,
   "metadata": {},
   "outputs": [
    {
     "output_type": "stream",
     "name": "stdout",
     "text": [
      "22+33=55\n"
     ]
    }
   ],
   "source": [
    "a= 22\n",
    "b= 33\n",
    "print(a,b, sep=\"+\" ,end=\"=\") #22+33=\n",
    "print(a+b)#55"
   ]
  },
  {
   "cell_type": "code",
   "execution_count": 3,
   "metadata": {},
   "outputs": [
    {
     "output_type": "stream",
     "name": "stdout",
     "text": [
      "이름이  안설란  입니다\n",
      "나이가  5 살  입니다\n"
     ]
    }
   ],
   "source": [
    "a = input(\"너는 이름이 뭐니?\")\n",
    "print(\"이름이 \",a,\" 입니다\")\n",
    "b = input(\"너는 몇 살이니?\")\n",
    "print(\"나이가 \",b,\"살  입니다\")"
   ]
  },
  {
   "cell_type": "code",
   "execution_count": 4,
   "metadata": {},
   "outputs": [
    {
     "output_type": "stream",
     "name": "stdout",
     "text": [
      "1+10=110\n수치 계산 : 1+10=11\n"
     ]
    }
   ],
   "source": [
    "a = input(\"a값을 입력하세요\")\n",
    "b = input(\"b값을 입력하세요\")\n",
    "print(a,b, sep=\"+\" ,end=\"=\") #a+b=ab\n",
    "print(a + b)\n",
    "print(\"수치 계산\", end =\" : \") \n",
    "print(a,b, sep=\"+\" ,end=\"=\") \n",
    "print(int(a)+int(b)) #a+b=(a+b)"
   ]
  },
  {
   "cell_type": "code",
   "execution_count": 8,
   "metadata": {},
   "outputs": [
    {
     "output_type": "stream",
     "name": "stdout",
     "text": [
      "코카콜라350ml  :  3 개 *  2500 원 = 총  7500 원\n"
     ]
    }
   ],
   "source": [
    "a= input(\"품목?\")     #문자형으로 입력됨\n",
    "b=int(input(\"수량?\")) #문자형 입력을 숫자형으로 변환\n",
    "c=int(input(\"단가?\")) #문자형 입력을 숫자형으로 변환\n",
    "print(a, \" : \",b,\"개 * \",c,\"원 = 총 \", b*c, \"원\")\n"
   ]
  },
  {
   "cell_type": "code",
   "execution_count": 9,
   "metadata": {},
   "outputs": [
    {
     "output_type": "stream",
     "name": "stdout",
     "text": [
      "1\n2\n3\n2\n"
     ]
    }
   ],
   "source": [
    "a=1\n",
    "print(a)\n",
    "a=2\n",
    "print(a) #최종적으로 a에 저장된 값은 2\n",
    "b=3\n",
    "print(b)\n",
    "print(a) #앞에서 a에 2가 저장되어 있음"
   ]
  },
  {
   "cell_type": "code",
   "execution_count": 1,
   "metadata": {},
   "outputs": [
    {
     "output_type": "stream",
     "name": "stdout",
     "text": [
      "1122\n<class 'int'>\nhello\n<class 'str'>\n<class 'int'>\n"
     ]
    }
   ],
   "source": [
    "a=1122; print(a); print(type(a)) v # 정수형\n",
    "b=\"hello\"; print(b); print(type(b)) # 문자열형\n",
    "b=12   # 기존 문자열 타입에 정수 할당\n",
    "print(type(b)) # 정수형"
   ]
  },
  {
   "cell_type": "code",
   "execution_count": 2,
   "metadata": {},
   "outputs": [
    {
     "output_type": "stream",
     "name": "stdout",
     "text": [
      "1122\n11\n"
     ]
    },
    {
     "output_type": "error",
     "ename": "NameError",
     "evalue": "name 'a' is not defined",
     "traceback": [
      "\u001b[1;31m---------------------------------------------------------------------------\u001b[0m",
      "\u001b[1;31mNameError\u001b[0m                                 Traceback (most recent call last)",
      "\u001b[1;32m<ipython-input-2-42bab16d669e>\u001b[0m in \u001b[0;36m<module>\u001b[1;34m\u001b[0m\n\u001b[0;32m      2\u001b[0m \u001b[0ma\u001b[0m\u001b[1;33m=\u001b[0m\u001b[1;36m11\u001b[0m\u001b[1;33m;\u001b[0m\u001b[0mprint\u001b[0m\u001b[1;33m(\u001b[0m\u001b[0ma\u001b[0m\u001b[1;33m)\u001b[0m\u001b[1;33m\u001b[0m\u001b[1;33m\u001b[0m\u001b[0m\n\u001b[0;32m      3\u001b[0m \u001b[1;32mdel\u001b[0m \u001b[0ma\u001b[0m\u001b[1;33m\u001b[0m\u001b[1;33m\u001b[0m\u001b[0m\n\u001b[1;32m----> 4\u001b[1;33m \u001b[0mprint\u001b[0m\u001b[1;33m(\u001b[0m\u001b[0ma\u001b[0m\u001b[1;33m)\u001b[0m\u001b[1;33m\u001b[0m\u001b[1;33m\u001b[0m\u001b[0m\n\u001b[0m",
      "\u001b[1;31mNameError\u001b[0m: name 'a' is not defined"
     ]
    }
   ],
   "source": [
    "a=1122;print(a);type(a)\n",
    "a=11;print(a)\n",
    "del a\n",
    "print(a)"
   ]
  },
  {
   "cell_type": "code",
   "execution_count": 3,
   "metadata": {},
   "outputs": [
    {
     "output_type": "stream",
     "name": "stdout",
     "text": [
      "100000\n100000\n"
     ]
    }
   ],
   "source": [
    "net = 100 ; qty = 1000; total =net * qty ;print (total) #변수명을 알기쉽게 작성\n",
    "단가=100; 수량 =1000; 총합= 단가 * 수량; print (총합) #관습적으로 이렇게는 사용 안 함"
   ]
  }
 ]
}